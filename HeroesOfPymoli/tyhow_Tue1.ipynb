{
 "cells": [
  {
   "cell_type": "markdown",
   "metadata": {},
   "source": [
    "### Note\n",
    "* Instructions have been included for each segment. You do not have to follow them exactly, but they are included to help you think through the steps."
   ]
  },
  {
   "cell_type": "code",
   "execution_count": 1,
   "metadata": {},
   "outputs": [
    {
     "data": {
      "text/html": [
       "<div>\n",
       "<style scoped>\n",
       "    .dataframe tbody tr th:only-of-type {\n",
       "        vertical-align: middle;\n",
       "    }\n",
       "\n",
       "    .dataframe tbody tr th {\n",
       "        vertical-align: top;\n",
       "    }\n",
       "\n",
       "    .dataframe thead th {\n",
       "        text-align: right;\n",
       "    }\n",
       "</style>\n",
       "<table border=\"1\" class=\"dataframe\">\n",
       "  <thead>\n",
       "    <tr style=\"text-align: right;\">\n",
       "      <th></th>\n",
       "      <th>Purchase ID</th>\n",
       "      <th>SN</th>\n",
       "      <th>Age</th>\n",
       "      <th>Gender</th>\n",
       "      <th>Item ID</th>\n",
       "      <th>Item Name</th>\n",
       "      <th>Price</th>\n",
       "    </tr>\n",
       "  </thead>\n",
       "  <tbody>\n",
       "    <tr>\n",
       "      <th>0</th>\n",
       "      <td>0</td>\n",
       "      <td>Lisim78</td>\n",
       "      <td>20</td>\n",
       "      <td>Male</td>\n",
       "      <td>108</td>\n",
       "      <td>Extraction, Quickblade Of Trembling Hands</td>\n",
       "      <td>3.53</td>\n",
       "    </tr>\n",
       "    <tr>\n",
       "      <th>1</th>\n",
       "      <td>1</td>\n",
       "      <td>Lisovynya38</td>\n",
       "      <td>40</td>\n",
       "      <td>Male</td>\n",
       "      <td>143</td>\n",
       "      <td>Frenzied Scimitar</td>\n",
       "      <td>1.56</td>\n",
       "    </tr>\n",
       "    <tr>\n",
       "      <th>2</th>\n",
       "      <td>2</td>\n",
       "      <td>Ithergue48</td>\n",
       "      <td>24</td>\n",
       "      <td>Male</td>\n",
       "      <td>92</td>\n",
       "      <td>Final Critic</td>\n",
       "      <td>4.88</td>\n",
       "    </tr>\n",
       "    <tr>\n",
       "      <th>3</th>\n",
       "      <td>3</td>\n",
       "      <td>Chamassasya86</td>\n",
       "      <td>24</td>\n",
       "      <td>Male</td>\n",
       "      <td>100</td>\n",
       "      <td>Blindscythe</td>\n",
       "      <td>3.27</td>\n",
       "    </tr>\n",
       "    <tr>\n",
       "      <th>4</th>\n",
       "      <td>4</td>\n",
       "      <td>Iskosia90</td>\n",
       "      <td>23</td>\n",
       "      <td>Male</td>\n",
       "      <td>131</td>\n",
       "      <td>Fury</td>\n",
       "      <td>1.44</td>\n",
       "    </tr>\n",
       "    <tr>\n",
       "      <th>...</th>\n",
       "      <td>...</td>\n",
       "      <td>...</td>\n",
       "      <td>...</td>\n",
       "      <td>...</td>\n",
       "      <td>...</td>\n",
       "      <td>...</td>\n",
       "      <td>...</td>\n",
       "    </tr>\n",
       "    <tr>\n",
       "      <th>775</th>\n",
       "      <td>775</td>\n",
       "      <td>Aethedru70</td>\n",
       "      <td>21</td>\n",
       "      <td>Female</td>\n",
       "      <td>60</td>\n",
       "      <td>Wolf</td>\n",
       "      <td>3.54</td>\n",
       "    </tr>\n",
       "    <tr>\n",
       "      <th>776</th>\n",
       "      <td>776</td>\n",
       "      <td>Iral74</td>\n",
       "      <td>21</td>\n",
       "      <td>Male</td>\n",
       "      <td>164</td>\n",
       "      <td>Exiled Doomblade</td>\n",
       "      <td>1.63</td>\n",
       "    </tr>\n",
       "    <tr>\n",
       "      <th>777</th>\n",
       "      <td>777</td>\n",
       "      <td>Yathecal72</td>\n",
       "      <td>20</td>\n",
       "      <td>Male</td>\n",
       "      <td>67</td>\n",
       "      <td>Celeste, Incarnation of the Corrupted</td>\n",
       "      <td>3.46</td>\n",
       "    </tr>\n",
       "    <tr>\n",
       "      <th>778</th>\n",
       "      <td>778</td>\n",
       "      <td>Sisur91</td>\n",
       "      <td>7</td>\n",
       "      <td>Male</td>\n",
       "      <td>92</td>\n",
       "      <td>Final Critic</td>\n",
       "      <td>4.19</td>\n",
       "    </tr>\n",
       "    <tr>\n",
       "      <th>779</th>\n",
       "      <td>779</td>\n",
       "      <td>Ennrian78</td>\n",
       "      <td>24</td>\n",
       "      <td>Male</td>\n",
       "      <td>50</td>\n",
       "      <td>Dawn</td>\n",
       "      <td>4.60</td>\n",
       "    </tr>\n",
       "  </tbody>\n",
       "</table>\n",
       "<p>780 rows × 7 columns</p>\n",
       "</div>"
      ],
      "text/plain": [
       "     Purchase ID             SN  Age  Gender  Item ID  \\\n",
       "0              0        Lisim78   20    Male      108   \n",
       "1              1    Lisovynya38   40    Male      143   \n",
       "2              2     Ithergue48   24    Male       92   \n",
       "3              3  Chamassasya86   24    Male      100   \n",
       "4              4      Iskosia90   23    Male      131   \n",
       "..           ...            ...  ...     ...      ...   \n",
       "775          775     Aethedru70   21  Female       60   \n",
       "776          776         Iral74   21    Male      164   \n",
       "777          777     Yathecal72   20    Male       67   \n",
       "778          778        Sisur91    7    Male       92   \n",
       "779          779      Ennrian78   24    Male       50   \n",
       "\n",
       "                                     Item Name  Price  \n",
       "0    Extraction, Quickblade Of Trembling Hands   3.53  \n",
       "1                            Frenzied Scimitar   1.56  \n",
       "2                                 Final Critic   4.88  \n",
       "3                                  Blindscythe   3.27  \n",
       "4                                         Fury   1.44  \n",
       "..                                         ...    ...  \n",
       "775                                       Wolf   3.54  \n",
       "776                           Exiled Doomblade   1.63  \n",
       "777      Celeste, Incarnation of the Corrupted   3.46  \n",
       "778                               Final Critic   4.19  \n",
       "779                                       Dawn   4.60  \n",
       "\n",
       "[780 rows x 7 columns]"
      ]
     },
     "execution_count": 1,
     "metadata": {},
     "output_type": "execute_result"
    }
   ],
   "source": [
    "# Dependencies and Setup\n",
    "import pandas as pd\n",
    "\n",
    "# File to Load (Remember to Change These)\n",
    "file_to_load = \"Resources/purchase_data.csv\"\n",
    "\n",
    "# Read Purchasing File and store into Pandas data frame\n",
    "purchase_data = pd.read_csv(file_to_load)\n",
    "purchase_data"
   ]
  },
  {
   "cell_type": "code",
   "execution_count": 2,
   "metadata": {},
   "outputs": [
    {
     "data": {
      "text/plain": [
       "Purchase ID      int64\n",
       "SN              object\n",
       "Age              int64\n",
       "Gender          object\n",
       "Item ID          int64\n",
       "Item Name       object\n",
       "Price          float64\n",
       "dtype: object"
      ]
     },
     "execution_count": 2,
     "metadata": {},
     "output_type": "execute_result"
    }
   ],
   "source": [
    "purchase_data.dtypes"
   ]
  },
  {
   "cell_type": "markdown",
   "metadata": {},
   "source": [
    "## Player Count"
   ]
  },
  {
   "cell_type": "markdown",
   "metadata": {},
   "source": [
    "* Display the total number of players\n"
   ]
  },
  {
   "cell_type": "code",
   "execution_count": 3,
   "metadata": {
    "scrolled": true
   },
   "outputs": [
    {
     "data": {
      "text/plain": [
       "576"
      ]
     },
     "execution_count": 3,
     "metadata": {},
     "output_type": "execute_result"
    }
   ],
   "source": [
    "player_count = purchase_data[\"SN\"].nunique()\n",
    "player_count"
   ]
  },
  {
   "cell_type": "markdown",
   "metadata": {},
   "source": [
    "## Purchasing Analysis (Total)"
   ]
  },
  {
   "cell_type": "markdown",
   "metadata": {},
   "source": [
    "* Run basic calculations to obtain number of unique items, average price, etc.\n",
    "\n",
    "\n",
    "* Create a summary data frame to hold the results\n",
    "\n",
    "\n",
    "* Optional: give the displayed data cleaner formatting\n",
    "\n",
    "\n",
    "* Display the summary data frame\n"
   ]
  },
  {
   "cell_type": "code",
   "execution_count": 4,
   "metadata": {
    "scrolled": true
   },
   "outputs": [
    {
     "data": {
      "text/html": [
       "<div>\n",
       "<style scoped>\n",
       "    .dataframe tbody tr th:only-of-type {\n",
       "        vertical-align: middle;\n",
       "    }\n",
       "\n",
       "    .dataframe tbody tr th {\n",
       "        vertical-align: top;\n",
       "    }\n",
       "\n",
       "    .dataframe thead th {\n",
       "        text-align: right;\n",
       "    }\n",
       "</style>\n",
       "<table border=\"1\" class=\"dataframe\">\n",
       "  <thead>\n",
       "    <tr style=\"text-align: right;\">\n",
       "      <th></th>\n",
       "      <th>Item ID</th>\n",
       "      <th>Item Name</th>\n",
       "      <th>Price</th>\n",
       "    </tr>\n",
       "  </thead>\n",
       "  <tbody>\n",
       "    <tr>\n",
       "      <th>0</th>\n",
       "      <td>108</td>\n",
       "      <td>Extraction, Quickblade Of Trembling Hands</td>\n",
       "      <td>3.53</td>\n",
       "    </tr>\n",
       "    <tr>\n",
       "      <th>1</th>\n",
       "      <td>143</td>\n",
       "      <td>Frenzied Scimitar</td>\n",
       "      <td>1.56</td>\n",
       "    </tr>\n",
       "    <tr>\n",
       "      <th>2</th>\n",
       "      <td>92</td>\n",
       "      <td>Final Critic</td>\n",
       "      <td>4.88</td>\n",
       "    </tr>\n",
       "    <tr>\n",
       "      <th>3</th>\n",
       "      <td>100</td>\n",
       "      <td>Blindscythe</td>\n",
       "      <td>3.27</td>\n",
       "    </tr>\n",
       "    <tr>\n",
       "      <th>4</th>\n",
       "      <td>131</td>\n",
       "      <td>Fury</td>\n",
       "      <td>1.44</td>\n",
       "    </tr>\n",
       "  </tbody>\n",
       "</table>\n",
       "</div>"
      ],
      "text/plain": [
       "   Item ID                                  Item Name  Price\n",
       "0      108  Extraction, Quickblade Of Trembling Hands   3.53\n",
       "1      143                          Frenzied Scimitar   1.56\n",
       "2       92                               Final Critic   4.88\n",
       "3      100                                Blindscythe   3.27\n",
       "4      131                                       Fury   1.44"
      ]
     },
     "execution_count": 4,
     "metadata": {},
     "output_type": "execute_result"
    }
   ],
   "source": [
    "#Create items only df.  Practice with using smaller df to collect item specific data\n",
    "items_only_df = purchase_data.loc[:,[\"Item ID\", \"Item Name\", \"Price\"]]\n",
    "items_only_df.head(5)"
   ]
  },
  {
   "cell_type": "code",
   "execution_count": 5,
   "metadata": {},
   "outputs": [
    {
     "name": "stdout",
     "output_type": "stream",
     "text": [
      "179\n"
     ]
    }
   ],
   "source": [
    "#Unique items sold\n",
    "uitem_count = items_only_df[\"Item ID\"].nunique()\n",
    "print(uitem_count)"
   ]
  },
  {
   "cell_type": "code",
   "execution_count": 6,
   "metadata": {
    "scrolled": true
   },
   "outputs": [
    {
     "name": "stdout",
     "output_type": "stream",
     "text": [
      "$3.05\n"
     ]
    }
   ],
   "source": [
    "#Average price of items sold - iavg_priceformat: formatted average price\n",
    "item_avg_price = items_only_df[\"Price\"].mean()\n",
    "iavg_priceformat = \"${:.2f}\".format(item_avg_price)\n",
    "print(iavg_priceformat)"
   ]
  },
  {
   "cell_type": "code",
   "execution_count": 7,
   "metadata": {},
   "outputs": [
    {
     "name": "stdout",
     "output_type": "stream",
     "text": [
      "780\n"
     ]
    }
   ],
   "source": [
    "#Total number of items sold\n",
    "items_sold = items_only_df[\"Item ID\"].count()\n",
    "print(items_sold)"
   ]
  },
  {
   "cell_type": "code",
   "execution_count": 8,
   "metadata": {},
   "outputs": [
    {
     "name": "stdout",
     "output_type": "stream",
     "text": [
      "$2,379.77\n"
     ]
    }
   ],
   "source": [
    "#Total Sales - t_sformat : total sales value formatted\n",
    "total_sales = items_only_df[\"Price\"].sum()\n",
    "t_sformat = \"${:,.2f}\".format(total_sales)\n",
    "print(t_sformat)"
   ]
  },
  {
   "cell_type": "code",
   "execution_count": 9,
   "metadata": {},
   "outputs": [
    {
     "data": {
      "text/html": [
       "<div>\n",
       "<style scoped>\n",
       "    .dataframe tbody tr th:only-of-type {\n",
       "        vertical-align: middle;\n",
       "    }\n",
       "\n",
       "    .dataframe tbody tr th {\n",
       "        vertical-align: top;\n",
       "    }\n",
       "\n",
       "    .dataframe thead th {\n",
       "        text-align: right;\n",
       "    }\n",
       "</style>\n",
       "<table border=\"1\" class=\"dataframe\">\n",
       "  <thead>\n",
       "    <tr style=\"text-align: right;\">\n",
       "      <th></th>\n",
       "      <th>Num of Unique Items</th>\n",
       "      <th>Average Price</th>\n",
       "      <th>Num of Pur</th>\n",
       "      <th>Total Revenue</th>\n",
       "    </tr>\n",
       "  </thead>\n",
       "  <tbody>\n",
       "    <tr>\n",
       "      <th>0</th>\n",
       "      <td>179</td>\n",
       "      <td>$3.05</td>\n",
       "      <td>780</td>\n",
       "      <td>$2,379.77</td>\n",
       "    </tr>\n",
       "  </tbody>\n",
       "</table>\n",
       "</div>"
      ],
      "text/plain": [
       "   Num of Unique Items Average Price  Num of Pur Total Revenue\n",
       "0                  179         $3.05         780     $2,379.77"
      ]
     },
     "execution_count": 9,
     "metadata": {},
     "output_type": "execute_result"
    }
   ],
   "source": [
    "#Create purchase summary dataframe\n",
    "pur_sumdf = pd.DataFrame({\"Num of Unique Items\" : [uitem_count],\n",
    "                          \"Average Price\" : [iavg_priceformat],\n",
    "                          \"Num of Pur\" : [items_sold],\n",
    "                          \"Total Revenue\" : [t_sformat]\n",
    "                         })\n",
    "pur_sumdf"
   ]
  },
  {
   "cell_type": "markdown",
   "metadata": {},
   "source": [
    "## Gender Demographics"
   ]
  },
  {
   "cell_type": "markdown",
   "metadata": {},
   "source": [
    "* Percentage and Count of Male Players\n",
    "\n",
    "\n",
    "* Percentage and Count of Female Players\n",
    "\n",
    "\n",
    "* Percentage and Count of Other / Non-Disclosed\n",
    "\n",
    "\n"
   ]
  },
  {
   "cell_type": "code",
   "execution_count": 10,
   "metadata": {},
   "outputs": [],
   "source": [
    "#Create gender demographic df to practice extracting smaller df for specific information\n",
    "gender_only_df = purchase_data.loc[:,[\"SN\", \"Age\", \"Gender\"]]"
   ]
  },
  {
   "cell_type": "code",
   "execution_count": 11,
   "metadata": {},
   "outputs": [
    {
     "data": {
      "text/plain": [
       "Male                     652\n",
       "Female                   113\n",
       "Other / Non-Disclosed     15\n",
       "Name: Gender, dtype: int64"
      ]
     },
     "execution_count": 11,
     "metadata": {},
     "output_type": "execute_result"
    }
   ],
   "source": [
    "gender_only_df[\"Gender\"].value_counts()"
   ]
  },
  {
   "cell_type": "code",
   "execution_count": 12,
   "metadata": {},
   "outputs": [
    {
     "name": "stdout",
     "output_type": "stream",
     "text": [
      "484\n"
     ]
    }
   ],
   "source": [
    "male_df = gender_only_df[(gender_only_df[\"Gender\"] == \"Male\")]\n",
    "umale_count = male_df[\"SN\"].nunique()\n",
    "print(umale_count)"
   ]
  },
  {
   "cell_type": "code",
   "execution_count": 13,
   "metadata": {},
   "outputs": [
    {
     "name": "stdout",
     "output_type": "stream",
     "text": [
      "81\n"
     ]
    }
   ],
   "source": [
    "fmale_df = gender_only_df[(gender_only_df[\"Gender\"] == \"Female\")]\n",
    "ufmale_count = fmale_df[\"SN\"].nunique()\n",
    "print(ufmale_count)"
   ]
  },
  {
   "cell_type": "code",
   "execution_count": 14,
   "metadata": {},
   "outputs": [
    {
     "name": "stdout",
     "output_type": "stream",
     "text": [
      "11\n"
     ]
    }
   ],
   "source": [
    "ond_df = gender_only_df[(gender_only_df[\"Gender\"] == \"Other / Non-Disclosed\")]\n",
    "ond_count = ond_df[\"SN\"].nunique()\n",
    "print(ond_count)"
   ]
  },
  {
   "cell_type": "code",
   "execution_count": 15,
   "metadata": {},
   "outputs": [
    {
     "name": "stdout",
     "output_type": "stream",
     "text": [
      "576\n"
     ]
    }
   ],
   "source": [
    "#Total unique players: tup = sum of nunique male, female, OND\n",
    "tup = umale_count + ufmale_count + ond_count\n",
    "print(tup)"
   ]
  },
  {
   "cell_type": "code",
   "execution_count": 16,
   "metadata": {},
   "outputs": [],
   "source": [
    "#Caluculate and format Gender Demographics\n",
    "male_per = (umale_count/tup) * 100\n",
    "m_pformat = \"{:,.2f}%\".format(male_per)\n",
    "fmale_per = (ufmale_count/tup) * 100\n",
    "fm_pformat = \"{:,.2f}%\".format(fmale_per)\n",
    "ond_per = (ond_count/tup) * 100\n",
    "ond_pformat = \"{:,.2f}%\".format(ond_per)"
   ]
  },
  {
   "cell_type": "code",
   "execution_count": 17,
   "metadata": {
    "scrolled": true
   },
   "outputs": [
    {
     "data": {
      "text/html": [
       "<div>\n",
       "<style scoped>\n",
       "    .dataframe tbody tr th:only-of-type {\n",
       "        vertical-align: middle;\n",
       "    }\n",
       "\n",
       "    .dataframe tbody tr th {\n",
       "        vertical-align: top;\n",
       "    }\n",
       "\n",
       "    .dataframe thead th {\n",
       "        text-align: right;\n",
       "    }\n",
       "</style>\n",
       "<table border=\"1\" class=\"dataframe\">\n",
       "  <thead>\n",
       "    <tr style=\"text-align: right;\">\n",
       "      <th></th>\n",
       "      <th>Total Count</th>\n",
       "      <th>Percentage of Players</th>\n",
       "    </tr>\n",
       "  </thead>\n",
       "  <tbody>\n",
       "    <tr>\n",
       "      <th>Male</th>\n",
       "      <td>484</td>\n",
       "      <td>84.03%</td>\n",
       "    </tr>\n",
       "    <tr>\n",
       "      <th>Female</th>\n",
       "      <td>81</td>\n",
       "      <td>14.06%</td>\n",
       "    </tr>\n",
       "    <tr>\n",
       "      <th>Other / Non-Disclosed</th>\n",
       "      <td>11</td>\n",
       "      <td>1.91%</td>\n",
       "    </tr>\n",
       "  </tbody>\n",
       "</table>\n",
       "</div>"
      ],
      "text/plain": [
       "                       Total Count Percentage of Players\n",
       "Male                           484                84.03%\n",
       "Female                          81                14.06%\n",
       "Other / Non-Disclosed           11                 1.91%"
      ]
     },
     "execution_count": 17,
     "metadata": {},
     "output_type": "execute_result"
    }
   ],
   "source": [
    "#Create dictionary of finalized data, then convert to dataframe\n",
    "gen_demdict = {\"Total Count\" : pd.Series([umale_count, ufmale_count, ond_count], \n",
    "                           index = [\"Male\", \"Female\", \"Other / Non-Disclosed\"]),\n",
    "               \"Percentage of Players\" : pd.Series([m_pformat, fm_pformat, ond_pformat], \n",
    "                           index = [\"Male\", \"Female\", \"Other / Non-Disclosed\"])\n",
    "              }\n",
    "gen_demdf = pd.DataFrame(gen_demdict)\n",
    "gen_demdf"
   ]
  },
  {
   "cell_type": "markdown",
   "metadata": {},
   "source": [
    "\n",
    "## Purchasing Analysis (Gender)"
   ]
  },
  {
   "cell_type": "markdown",
   "metadata": {},
   "source": [
    "* Run basic calculations to obtain purchase count, avg. purchase price, avg. purchase total per person etc. by gender\n",
    "\n",
    "\n",
    "\n",
    "\n",
    "* Create a summary data frame to hold the results\n",
    "\n",
    "\n",
    "* Optional: give the displayed data cleaner formatting\n",
    "\n",
    "\n",
    "* Display the summary data frame"
   ]
  },
  {
   "cell_type": "code",
   "execution_count": 18,
   "metadata": {},
   "outputs": [
    {
     "data": {
      "text/html": [
       "<div>\n",
       "<style scoped>\n",
       "    .dataframe tbody tr th:only-of-type {\n",
       "        vertical-align: middle;\n",
       "    }\n",
       "\n",
       "    .dataframe tbody tr th {\n",
       "        vertical-align: top;\n",
       "    }\n",
       "\n",
       "    .dataframe thead th {\n",
       "        text-align: right;\n",
       "    }\n",
       "</style>\n",
       "<table border=\"1\" class=\"dataframe\">\n",
       "  <thead>\n",
       "    <tr style=\"text-align: right;\">\n",
       "      <th></th>\n",
       "      <th>Purchase ID</th>\n",
       "      <th>SN</th>\n",
       "      <th>Age</th>\n",
       "      <th>Gender</th>\n",
       "      <th>Item ID</th>\n",
       "      <th>Item Name</th>\n",
       "      <th>Price</th>\n",
       "    </tr>\n",
       "  </thead>\n",
       "  <tbody>\n",
       "    <tr>\n",
       "      <th>0</th>\n",
       "      <td>0</td>\n",
       "      <td>Lisim78</td>\n",
       "      <td>20</td>\n",
       "      <td>Male</td>\n",
       "      <td>108</td>\n",
       "      <td>Extraction, Quickblade Of Trembling Hands</td>\n",
       "      <td>3.53</td>\n",
       "    </tr>\n",
       "    <tr>\n",
       "      <th>1</th>\n",
       "      <td>1</td>\n",
       "      <td>Lisovynya38</td>\n",
       "      <td>40</td>\n",
       "      <td>Male</td>\n",
       "      <td>143</td>\n",
       "      <td>Frenzied Scimitar</td>\n",
       "      <td>1.56</td>\n",
       "    </tr>\n",
       "    <tr>\n",
       "      <th>2</th>\n",
       "      <td>2</td>\n",
       "      <td>Ithergue48</td>\n",
       "      <td>24</td>\n",
       "      <td>Male</td>\n",
       "      <td>92</td>\n",
       "      <td>Final Critic</td>\n",
       "      <td>4.88</td>\n",
       "    </tr>\n",
       "    <tr>\n",
       "      <th>3</th>\n",
       "      <td>3</td>\n",
       "      <td>Chamassasya86</td>\n",
       "      <td>24</td>\n",
       "      <td>Male</td>\n",
       "      <td>100</td>\n",
       "      <td>Blindscythe</td>\n",
       "      <td>3.27</td>\n",
       "    </tr>\n",
       "    <tr>\n",
       "      <th>4</th>\n",
       "      <td>4</td>\n",
       "      <td>Iskosia90</td>\n",
       "      <td>23</td>\n",
       "      <td>Male</td>\n",
       "      <td>131</td>\n",
       "      <td>Fury</td>\n",
       "      <td>1.44</td>\n",
       "    </tr>\n",
       "  </tbody>\n",
       "</table>\n",
       "</div>"
      ],
      "text/plain": [
       "   Purchase ID             SN  Age Gender  Item ID  \\\n",
       "0            0        Lisim78   20   Male      108   \n",
       "1            1    Lisovynya38   40   Male      143   \n",
       "2            2     Ithergue48   24   Male       92   \n",
       "3            3  Chamassasya86   24   Male      100   \n",
       "4            4      Iskosia90   23   Male      131   \n",
       "\n",
       "                                   Item Name  Price  \n",
       "0  Extraction, Quickblade Of Trembling Hands   3.53  \n",
       "1                          Frenzied Scimitar   1.56  \n",
       "2                               Final Critic   4.88  \n",
       "3                                Blindscythe   3.27  \n",
       "4                                       Fury   1.44  "
      ]
     },
     "execution_count": 18,
     "metadata": {},
     "output_type": "execute_result"
    }
   ],
   "source": [
    "#Create Total Male dataframe\n",
    "totalmale_df = purchase_data[(purchase_data[\"Gender\"] == \"Male\")]\n",
    "totalmale_df.head()"
   ]
  },
  {
   "cell_type": "code",
   "execution_count": 19,
   "metadata": {},
   "outputs": [],
   "source": [
    "tmale_count = totalmale_df[\"Gender\"].count()\n",
    "tmale_pur = totalmale_df[\"Price\"].mean()\n",
    "tmale_tpur = totalmale_df[\"Price\"].sum()\n",
    "tmale_avgpurpm = totalmale_df[\"Price\"].sum() / umale_count"
   ]
  },
  {
   "cell_type": "code",
   "execution_count": 20,
   "metadata": {},
   "outputs": [],
   "source": [
    "#Create Total Female dataframe\n",
    "totalfmale_df = purchase_data[(purchase_data[\"Gender\"] == \"Female\")]"
   ]
  },
  {
   "cell_type": "code",
   "execution_count": 21,
   "metadata": {},
   "outputs": [],
   "source": [
    "tfmale_count = totalfmale_df[\"Gender\"].count()\n",
    "tfmale_pur = totalfmale_df[\"Price\"].mean()\n",
    "tfmale_tpur = totalfmale_df[\"Price\"].sum()\n",
    "tfmale_avgpurpm = totalfmale_df[\"Price\"].sum() / ufmale_count"
   ]
  },
  {
   "cell_type": "code",
   "execution_count": 22,
   "metadata": {},
   "outputs": [],
   "source": [
    "#Create Total Other / Non-Disclosed dataframe\n",
    "totalond_df = purchase_data[(purchase_data[\"Gender\"] == \"Other / Non-Disclosed\")]"
   ]
  },
  {
   "cell_type": "code",
   "execution_count": 23,
   "metadata": {},
   "outputs": [],
   "source": [
    "tond_count = totalond_df[\"Gender\"].count()\n",
    "tond_pur = totalond_df[\"Price\"].mean()\n",
    "tond_tpur = totalond_df[\"Price\"].sum()\n",
    "tond_avgpurpm = totalond_df[\"Price\"].sum() / ond_count"
   ]
  },
  {
   "cell_type": "code",
   "execution_count": 24,
   "metadata": {},
   "outputs": [],
   "source": [
    "pa_genderdf = pd.DataFrame({\"Gender\" : [\"Female\", \"Male\", \"Other / Non-Disclosed\"],\n",
    "                          \"Purchase Count\" : [tfmale_count, tmale_count, tond_count],\n",
    "                          \"Average Purchase Price\" : [tfmale_pur, tmale_pur, tond_pur],\n",
    "                          \"Total Purchase Value\" : [tfmale_tpur, tmale_tpur, tond_tpur],\n",
    "                          \"Avg Total Purchase / Person\" : [tfmale_avgpurpm, tmale_avgpurpm, tond_avgpurpm,]\n",
    "                         })"
   ]
  },
  {
   "cell_type": "code",
   "execution_count": 25,
   "metadata": {},
   "outputs": [
    {
     "data": {
      "text/html": [
       "<style  type=\"text/css\" >\n",
       "</style><table id=\"T_40f5cf78_2ec8_11eb_a072_94e6f70c7217\" ><thead>    <tr>        <th class=\"col_heading level0 col0\" >Gender</th>        <th class=\"col_heading level0 col1\" >Purchase Count</th>        <th class=\"col_heading level0 col2\" >Average Purchase Price</th>        <th class=\"col_heading level0 col3\" >Total Purchase Value</th>        <th class=\"col_heading level0 col4\" >Avg Total Purchase / Person</th>    </tr></thead><tbody>\n",
       "                <tr>\n",
       "                                <td id=\"T_40f5cf78_2ec8_11eb_a072_94e6f70c7217row0_col0\" class=\"data row0 col0\" >Female</td>\n",
       "                        <td id=\"T_40f5cf78_2ec8_11eb_a072_94e6f70c7217row0_col1\" class=\"data row0 col1\" >113</td>\n",
       "                        <td id=\"T_40f5cf78_2ec8_11eb_a072_94e6f70c7217row0_col2\" class=\"data row0 col2\" >$3.20</td>\n",
       "                        <td id=\"T_40f5cf78_2ec8_11eb_a072_94e6f70c7217row0_col3\" class=\"data row0 col3\" >$361.94</td>\n",
       "                        <td id=\"T_40f5cf78_2ec8_11eb_a072_94e6f70c7217row0_col4\" class=\"data row0 col4\" >$4.47</td>\n",
       "            </tr>\n",
       "            <tr>\n",
       "                                <td id=\"T_40f5cf78_2ec8_11eb_a072_94e6f70c7217row1_col0\" class=\"data row1 col0\" >Male</td>\n",
       "                        <td id=\"T_40f5cf78_2ec8_11eb_a072_94e6f70c7217row1_col1\" class=\"data row1 col1\" >652</td>\n",
       "                        <td id=\"T_40f5cf78_2ec8_11eb_a072_94e6f70c7217row1_col2\" class=\"data row1 col2\" >$3.02</td>\n",
       "                        <td id=\"T_40f5cf78_2ec8_11eb_a072_94e6f70c7217row1_col3\" class=\"data row1 col3\" >$1967.64</td>\n",
       "                        <td id=\"T_40f5cf78_2ec8_11eb_a072_94e6f70c7217row1_col4\" class=\"data row1 col4\" >$4.07</td>\n",
       "            </tr>\n",
       "            <tr>\n",
       "                                <td id=\"T_40f5cf78_2ec8_11eb_a072_94e6f70c7217row2_col0\" class=\"data row2 col0\" >Other / Non-Disclosed</td>\n",
       "                        <td id=\"T_40f5cf78_2ec8_11eb_a072_94e6f70c7217row2_col1\" class=\"data row2 col1\" >15</td>\n",
       "                        <td id=\"T_40f5cf78_2ec8_11eb_a072_94e6f70c7217row2_col2\" class=\"data row2 col2\" >$3.35</td>\n",
       "                        <td id=\"T_40f5cf78_2ec8_11eb_a072_94e6f70c7217row2_col3\" class=\"data row2 col3\" >$50.19</td>\n",
       "                        <td id=\"T_40f5cf78_2ec8_11eb_a072_94e6f70c7217row2_col4\" class=\"data row2 col4\" >$4.56</td>\n",
       "            </tr>\n",
       "    </tbody></table>"
      ],
      "text/plain": [
       "<pandas.io.formats.style.Styler at 0x28b408e87f0>"
      ]
     },
     "execution_count": 25,
     "metadata": {},
     "output_type": "execute_result"
    }
   ],
   "source": [
    "pa_genderdf.style.format({'Average Purchase Price': \"${:.2f}\", \n",
    "                          'Total Purchase Value': \"${:.2f}\",\n",
    "                          'Avg Total Purchase / Person' : \"${:.2f}\"}\n",
    "                        ).hide_index()"
   ]
  },
  {
   "cell_type": "markdown",
   "metadata": {},
   "source": [
    "## Age Demographics"
   ]
  },
  {
   "cell_type": "markdown",
   "metadata": {},
   "source": [
    "* Establish bins for ages\n",
    "\n",
    "\n",
    "* Categorize the existing players using the age bins. Hint: use pd.cut()\n",
    "\n",
    "\n",
    "* Calculate the numbers and percentages by age group\n",
    "\n",
    "\n",
    "* Create a summary data frame to hold the results\n",
    "\n",
    "\n",
    "* Optional: round the percentage column to two decimal points\n",
    "\n",
    "\n",
    "* Display Age Demographics Table\n"
   ]
  },
  {
   "cell_type": "code",
   "execution_count": 26,
   "metadata": {},
   "outputs": [
    {
     "data": {
      "text/html": [
       "<div>\n",
       "<style scoped>\n",
       "    .dataframe tbody tr th:only-of-type {\n",
       "        vertical-align: middle;\n",
       "    }\n",
       "\n",
       "    .dataframe tbody tr th {\n",
       "        vertical-align: top;\n",
       "    }\n",
       "\n",
       "    .dataframe thead th {\n",
       "        text-align: right;\n",
       "    }\n",
       "</style>\n",
       "<table border=\"1\" class=\"dataframe\">\n",
       "  <thead>\n",
       "    <tr style=\"text-align: right;\">\n",
       "      <th></th>\n",
       "      <th>Purchase ID</th>\n",
       "      <th>SN</th>\n",
       "      <th>Age</th>\n",
       "      <th>Gender</th>\n",
       "      <th>Item ID</th>\n",
       "      <th>Item Name</th>\n",
       "      <th>Price</th>\n",
       "      <th>Age_Range</th>\n",
       "    </tr>\n",
       "  </thead>\n",
       "  <tbody>\n",
       "    <tr>\n",
       "      <th>0</th>\n",
       "      <td>0</td>\n",
       "      <td>Lisim78</td>\n",
       "      <td>20</td>\n",
       "      <td>Male</td>\n",
       "      <td>108</td>\n",
       "      <td>Extraction, Quickblade Of Trembling Hands</td>\n",
       "      <td>3.53</td>\n",
       "      <td>20-24</td>\n",
       "    </tr>\n",
       "    <tr>\n",
       "      <th>1</th>\n",
       "      <td>1</td>\n",
       "      <td>Lisovynya38</td>\n",
       "      <td>40</td>\n",
       "      <td>Male</td>\n",
       "      <td>143</td>\n",
       "      <td>Frenzied Scimitar</td>\n",
       "      <td>1.56</td>\n",
       "      <td>40+</td>\n",
       "    </tr>\n",
       "    <tr>\n",
       "      <th>2</th>\n",
       "      <td>2</td>\n",
       "      <td>Ithergue48</td>\n",
       "      <td>24</td>\n",
       "      <td>Male</td>\n",
       "      <td>92</td>\n",
       "      <td>Final Critic</td>\n",
       "      <td>4.88</td>\n",
       "      <td>20-24</td>\n",
       "    </tr>\n",
       "    <tr>\n",
       "      <th>3</th>\n",
       "      <td>3</td>\n",
       "      <td>Chamassasya86</td>\n",
       "      <td>24</td>\n",
       "      <td>Male</td>\n",
       "      <td>100</td>\n",
       "      <td>Blindscythe</td>\n",
       "      <td>3.27</td>\n",
       "      <td>20-24</td>\n",
       "    </tr>\n",
       "    <tr>\n",
       "      <th>4</th>\n",
       "      <td>4</td>\n",
       "      <td>Iskosia90</td>\n",
       "      <td>23</td>\n",
       "      <td>Male</td>\n",
       "      <td>131</td>\n",
       "      <td>Fury</td>\n",
       "      <td>1.44</td>\n",
       "      <td>20-24</td>\n",
       "    </tr>\n",
       "    <tr>\n",
       "      <th>5</th>\n",
       "      <td>5</td>\n",
       "      <td>Yalae81</td>\n",
       "      <td>22</td>\n",
       "      <td>Male</td>\n",
       "      <td>81</td>\n",
       "      <td>Dreamkiss</td>\n",
       "      <td>3.61</td>\n",
       "      <td>20-24</td>\n",
       "    </tr>\n",
       "    <tr>\n",
       "      <th>6</th>\n",
       "      <td>6</td>\n",
       "      <td>Itheria73</td>\n",
       "      <td>36</td>\n",
       "      <td>Male</td>\n",
       "      <td>169</td>\n",
       "      <td>Interrogator, Blood Blade of the Queen</td>\n",
       "      <td>2.18</td>\n",
       "      <td>35-39</td>\n",
       "    </tr>\n",
       "    <tr>\n",
       "      <th>7</th>\n",
       "      <td>7</td>\n",
       "      <td>Iskjaskst81</td>\n",
       "      <td>20</td>\n",
       "      <td>Male</td>\n",
       "      <td>162</td>\n",
       "      <td>Abyssal Shard</td>\n",
       "      <td>2.67</td>\n",
       "      <td>20-24</td>\n",
       "    </tr>\n",
       "    <tr>\n",
       "      <th>8</th>\n",
       "      <td>8</td>\n",
       "      <td>Undjask33</td>\n",
       "      <td>22</td>\n",
       "      <td>Male</td>\n",
       "      <td>21</td>\n",
       "      <td>Souleater</td>\n",
       "      <td>1.10</td>\n",
       "      <td>20-24</td>\n",
       "    </tr>\n",
       "    <tr>\n",
       "      <th>9</th>\n",
       "      <td>9</td>\n",
       "      <td>Chanosian48</td>\n",
       "      <td>35</td>\n",
       "      <td>Other / Non-Disclosed</td>\n",
       "      <td>136</td>\n",
       "      <td>Ghastly Adamantite Protector</td>\n",
       "      <td>3.58</td>\n",
       "      <td>35-39</td>\n",
       "    </tr>\n",
       "  </tbody>\n",
       "</table>\n",
       "</div>"
      ],
      "text/plain": [
       "   Purchase ID             SN  Age                 Gender  Item ID  \\\n",
       "0            0        Lisim78   20                   Male      108   \n",
       "1            1    Lisovynya38   40                   Male      143   \n",
       "2            2     Ithergue48   24                   Male       92   \n",
       "3            3  Chamassasya86   24                   Male      100   \n",
       "4            4      Iskosia90   23                   Male      131   \n",
       "5            5        Yalae81   22                   Male       81   \n",
       "6            6      Itheria73   36                   Male      169   \n",
       "7            7    Iskjaskst81   20                   Male      162   \n",
       "8            8      Undjask33   22                   Male       21   \n",
       "9            9    Chanosian48   35  Other / Non-Disclosed      136   \n",
       "\n",
       "                                   Item Name  Price Age_Range  \n",
       "0  Extraction, Quickblade Of Trembling Hands   3.53     20-24  \n",
       "1                          Frenzied Scimitar   1.56       40+  \n",
       "2                               Final Critic   4.88     20-24  \n",
       "3                                Blindscythe   3.27     20-24  \n",
       "4                                       Fury   1.44     20-24  \n",
       "5                                  Dreamkiss   3.61     20-24  \n",
       "6     Interrogator, Blood Blade of the Queen   2.18     35-39  \n",
       "7                              Abyssal Shard   2.67     20-24  \n",
       "8                                  Souleater   1.10     20-24  \n",
       "9               Ghastly Adamantite Protector   3.58     35-39  "
      ]
     },
     "execution_count": 26,
     "metadata": {},
     "output_type": "execute_result"
    }
   ],
   "source": [
    "#Establish age bins\n",
    "bins = [0, 9, 14, 19, 24, 29, 34, 39, 200]\n",
    "age_labels = [\"<10\", \"10-14\", \"15-19\", \"20-24\", \"25-29\", \"30-34\", \"35-39\", \"40+\"]\n",
    "purchase_data[\"Age_Range\"] = pd.cut(purchase_data[\"Age\"], bins, labels=age_labels)\n",
    "purchase_data.head(10)"
   ]
  },
  {
   "cell_type": "code",
   "execution_count": 27,
   "metadata": {
    "scrolled": true
   },
   "outputs": [
    {
     "data": {
      "text/plain": [
       "20-24    365\n",
       "15-19    136\n",
       "25-29    101\n",
       "30-34     73\n",
       "35-39     41\n",
       "10-14     28\n",
       "<10       23\n",
       "40+       13\n",
       "Name: Age_Range, dtype: int64"
      ]
     },
     "execution_count": 27,
     "metadata": {},
     "output_type": "execute_result"
    }
   ],
   "source": [
    "purchase_data[\"Age_Range\"].value_counts()"
   ]
  },
  {
   "cell_type": "code",
   "execution_count": 28,
   "metadata": {},
   "outputs": [
    {
     "name": "stdout",
     "output_type": "stream",
     "text": [
      "17\n"
     ]
    }
   ],
   "source": [
    "u10_df = purchase_data[(purchase_data[\"Age\"] <10)]\n",
    "u10_count = u10_df[\"SN\"].nunique()\n",
    "print(u10_count)"
   ]
  },
  {
   "cell_type": "code",
   "execution_count": 29,
   "metadata": {},
   "outputs": [
    {
     "name": "stdout",
     "output_type": "stream",
     "text": [
      "22\n"
     ]
    }
   ],
   "source": [
    "ten14_df = purchase_data[(purchase_data[\"Age\"].between(10,14,))]\n",
    "ten14_count = ten14_df[\"SN\"].nunique()\n",
    "print(ten14_count)"
   ]
  },
  {
   "cell_type": "code",
   "execution_count": 30,
   "metadata": {
    "scrolled": true
   },
   "outputs": [
    {
     "name": "stdout",
     "output_type": "stream",
     "text": [
      "107\n"
     ]
    }
   ],
   "source": [
    "fif19_df = purchase_data[(purchase_data[\"Age\"].between(15,19,))]\n",
    "fif19_count = fif19_df[\"SN\"].nunique()\n",
    "print(fif19_count)"
   ]
  },
  {
   "cell_type": "code",
   "execution_count": 31,
   "metadata": {},
   "outputs": [
    {
     "name": "stdout",
     "output_type": "stream",
     "text": [
      "258\n"
     ]
    }
   ],
   "source": [
    "twe24_df = purchase_data[(purchase_data[\"Age\"].between(20,24,))]\n",
    "twe24_count = twe24_df[\"SN\"].nunique()\n",
    "print(twe24_count)"
   ]
  },
  {
   "cell_type": "code",
   "execution_count": 32,
   "metadata": {},
   "outputs": [
    {
     "name": "stdout",
     "output_type": "stream",
     "text": [
      "77\n"
     ]
    }
   ],
   "source": [
    "tw2529_df = purchase_data[(purchase_data[\"Age\"].between(25,29,))]\n",
    "tw2529_count = tw2529_df[\"SN\"].nunique()\n",
    "print(tw2529_count)"
   ]
  },
  {
   "cell_type": "code",
   "execution_count": 33,
   "metadata": {},
   "outputs": [
    {
     "name": "stdout",
     "output_type": "stream",
     "text": [
      "52\n"
     ]
    }
   ],
   "source": [
    "thi34_df = purchase_data[(purchase_data[\"Age\"].between(30,34,))]\n",
    "thi34_count = thi34_df[\"SN\"].nunique()\n",
    "print(thi34_count)"
   ]
  },
  {
   "cell_type": "code",
   "execution_count": 34,
   "metadata": {},
   "outputs": [
    {
     "name": "stdout",
     "output_type": "stream",
     "text": [
      "31\n"
     ]
    }
   ],
   "source": [
    "th3539_df = purchase_data[(purchase_data[\"Age\"].between(35,39,))]\n",
    "th3539_count = th3539_df[\"SN\"].nunique()\n",
    "print(th3539_count)"
   ]
  },
  {
   "cell_type": "code",
   "execution_count": 35,
   "metadata": {},
   "outputs": [
    {
     "name": "stdout",
     "output_type": "stream",
     "text": [
      "12\n"
     ]
    }
   ],
   "source": [
    "o40_df = purchase_data[(purchase_data[\"Age\"] >39)]\n",
    "o40_count = o40_df[\"SN\"].nunique()\n",
    "print(o40_count)"
   ]
  },
  {
   "cell_type": "code",
   "execution_count": 36,
   "metadata": {},
   "outputs": [
    {
     "data": {
      "text/plain": [
       "576"
      ]
     },
     "execution_count": 36,
     "metadata": {},
     "output_type": "execute_result"
    }
   ],
   "source": [
    "#Determine total unique population in age range  - check against total unique previously obtained\n",
    "tuar = o40_count+th3539_count+thi34_count+tw2529_count+twe24_count+fif19_count+ten14_count+u10_count\n",
    "tuar"
   ]
  },
  {
   "cell_type": "code",
   "execution_count": 37,
   "metadata": {},
   "outputs": [],
   "source": [
    "#Caluculate and format Age Demographics\n",
    "u10_per = (u10_count/tuar) * 100\n",
    "u10_pformat = \"{:,.2f}%\".format(u10_per)\n",
    "ten14_per = (ten14_count/tuar) * 100\n",
    "ten14_pformat = \"{:,.2f}%\".format(ten14_per)\n",
    "fif19_per = (fif19_count/tuar) * 100\n",
    "fif19_pformat = \"{:,.2f}%\".format(fif19_per)\n",
    "twe24_per = (twe24_count/tuar) * 100\n",
    "twe24_pformat = \"{:,.2f}%\".format(twe24_per)\n",
    "tw2529_per = (tw2529_count/tuar) * 100\n",
    "tw2529_pformat = \"{:,.2f}%\".format(tw2529_per)\n",
    "thi34_per = (thi34_count/tuar) * 100\n",
    "thi34_pformat = \"{:,.2f}%\".format(thi34_per)\n",
    "th3539_per = (th3539_count/tuar) * 100\n",
    "th3539_pformat = \"{:,.2f}%\".format(th3539_per)\n",
    "o40_per = (o40_count/tuar) * 100\n",
    "o40_pformat = \"{:,.2f}%\".format(o40_per)"
   ]
  },
  {
   "cell_type": "code",
   "execution_count": 38,
   "metadata": {},
   "outputs": [
    {
     "data": {
      "text/html": [
       "<div>\n",
       "<style scoped>\n",
       "    .dataframe tbody tr th:only-of-type {\n",
       "        vertical-align: middle;\n",
       "    }\n",
       "\n",
       "    .dataframe tbody tr th {\n",
       "        vertical-align: top;\n",
       "    }\n",
       "\n",
       "    .dataframe thead th {\n",
       "        text-align: right;\n",
       "    }\n",
       "</style>\n",
       "<table border=\"1\" class=\"dataframe\">\n",
       "  <thead>\n",
       "    <tr style=\"text-align: right;\">\n",
       "      <th></th>\n",
       "      <th>Total Count</th>\n",
       "      <th>Percentage of Players</th>\n",
       "    </tr>\n",
       "  </thead>\n",
       "  <tbody>\n",
       "    <tr>\n",
       "      <th>&lt;10</th>\n",
       "      <td>17</td>\n",
       "      <td>2.95%</td>\n",
       "    </tr>\n",
       "    <tr>\n",
       "      <th>10-14</th>\n",
       "      <td>22</td>\n",
       "      <td>3.82%</td>\n",
       "    </tr>\n",
       "    <tr>\n",
       "      <th>15-19</th>\n",
       "      <td>107</td>\n",
       "      <td>18.58%</td>\n",
       "    </tr>\n",
       "    <tr>\n",
       "      <th>20-24</th>\n",
       "      <td>258</td>\n",
       "      <td>44.79%</td>\n",
       "    </tr>\n",
       "    <tr>\n",
       "      <th>25-29</th>\n",
       "      <td>77</td>\n",
       "      <td>13.37%</td>\n",
       "    </tr>\n",
       "    <tr>\n",
       "      <th>30-34</th>\n",
       "      <td>52</td>\n",
       "      <td>9.03%</td>\n",
       "    </tr>\n",
       "    <tr>\n",
       "      <th>35-39</th>\n",
       "      <td>31</td>\n",
       "      <td>5.38%</td>\n",
       "    </tr>\n",
       "    <tr>\n",
       "      <th>40+</th>\n",
       "      <td>12</td>\n",
       "      <td>2.08%</td>\n",
       "    </tr>\n",
       "  </tbody>\n",
       "</table>\n",
       "</div>"
      ],
      "text/plain": [
       "       Total Count Percentage of Players\n",
       "<10             17                 2.95%\n",
       "10-14           22                 3.82%\n",
       "15-19          107                18.58%\n",
       "20-24          258                44.79%\n",
       "25-29           77                13.37%\n",
       "30-34           52                 9.03%\n",
       "35-39           31                 5.38%\n",
       "40+             12                 2.08%"
      ]
     },
     "execution_count": 38,
     "metadata": {},
     "output_type": "execute_result"
    }
   ],
   "source": [
    "#Create dictionary of finalized data, then convert to dataframe\n",
    "age_demdict = {\"Total Count\" : pd.Series([u10_count, ten14_count, fif19_count, twe24_count, tw2529_count, thi34_count, th3539_count,o40_count], \n",
    "                           index = [\"<10\", \"10-14\", \"15-19\", \"20-24\", \"25-29\", \"30-34\", \"35-39\", \"40+\"]),\n",
    "               \"Percentage of Players\" : pd.Series([u10_pformat, ten14_pformat, fif19_pformat, twe24_pformat, tw2529_pformat, thi34_pformat, th3539_pformat,o40_pformat], \n",
    "                           index = [\"<10\", \"10-14\", \"15-19\", \"20-24\", \"25-29\", \"30-34\", \"35-39\", \"40+\"])\n",
    "              }\n",
    "age_demdf = pd.DataFrame(age_demdict)\n",
    "age_demdf"
   ]
  },
  {
   "cell_type": "markdown",
   "metadata": {},
   "source": [
    "## Purchasing Analysis (Age)"
   ]
  },
  {
   "cell_type": "markdown",
   "metadata": {},
   "source": [
    "* Bin the purchase_data data frame by age\n",
    "\n",
    "\n",
    "* Run basic calculations to obtain purchase count, avg. purchase price, avg. purchase total per person etc. in the table below\n",
    "\n",
    "\n",
    "* Create a summary data frame to hold the results\n",
    "\n",
    "\n",
    "* Optional: give the displayed data cleaner formatting\n",
    "\n",
    "\n",
    "* Display the summary data frame"
   ]
  },
  {
   "cell_type": "code",
   "execution_count": 39,
   "metadata": {
    "scrolled": true
   },
   "outputs": [
    {
     "data": {
      "text/html": [
       "<div>\n",
       "<style scoped>\n",
       "    .dataframe tbody tr th:only-of-type {\n",
       "        vertical-align: middle;\n",
       "    }\n",
       "\n",
       "    .dataframe tbody tr th {\n",
       "        vertical-align: top;\n",
       "    }\n",
       "\n",
       "    .dataframe thead th {\n",
       "        text-align: right;\n",
       "    }\n",
       "</style>\n",
       "<table border=\"1\" class=\"dataframe\">\n",
       "  <thead>\n",
       "    <tr style=\"text-align: right;\">\n",
       "      <th></th>\n",
       "      <th>Purchase ID</th>\n",
       "      <th>SN</th>\n",
       "      <th>Age</th>\n",
       "      <th>Gender</th>\n",
       "      <th>Item ID</th>\n",
       "      <th>Item Name</th>\n",
       "      <th>Price</th>\n",
       "      <th>Age_Range</th>\n",
       "    </tr>\n",
       "  </thead>\n",
       "  <tbody>\n",
       "    <tr>\n",
       "      <th>0</th>\n",
       "      <td>0</td>\n",
       "      <td>Lisim78</td>\n",
       "      <td>20</td>\n",
       "      <td>Male</td>\n",
       "      <td>108</td>\n",
       "      <td>Extraction, Quickblade Of Trembling Hands</td>\n",
       "      <td>3.53</td>\n",
       "      <td>20-24</td>\n",
       "    </tr>\n",
       "    <tr>\n",
       "      <th>1</th>\n",
       "      <td>1</td>\n",
       "      <td>Lisovynya38</td>\n",
       "      <td>40</td>\n",
       "      <td>Male</td>\n",
       "      <td>143</td>\n",
       "      <td>Frenzied Scimitar</td>\n",
       "      <td>1.56</td>\n",
       "      <td>40+</td>\n",
       "    </tr>\n",
       "    <tr>\n",
       "      <th>2</th>\n",
       "      <td>2</td>\n",
       "      <td>Ithergue48</td>\n",
       "      <td>24</td>\n",
       "      <td>Male</td>\n",
       "      <td>92</td>\n",
       "      <td>Final Critic</td>\n",
       "      <td>4.88</td>\n",
       "      <td>20-24</td>\n",
       "    </tr>\n",
       "    <tr>\n",
       "      <th>3</th>\n",
       "      <td>3</td>\n",
       "      <td>Chamassasya86</td>\n",
       "      <td>24</td>\n",
       "      <td>Male</td>\n",
       "      <td>100</td>\n",
       "      <td>Blindscythe</td>\n",
       "      <td>3.27</td>\n",
       "      <td>20-24</td>\n",
       "    </tr>\n",
       "    <tr>\n",
       "      <th>4</th>\n",
       "      <td>4</td>\n",
       "      <td>Iskosia90</td>\n",
       "      <td>23</td>\n",
       "      <td>Male</td>\n",
       "      <td>131</td>\n",
       "      <td>Fury</td>\n",
       "      <td>1.44</td>\n",
       "      <td>20-24</td>\n",
       "    </tr>\n",
       "    <tr>\n",
       "      <th>5</th>\n",
       "      <td>5</td>\n",
       "      <td>Yalae81</td>\n",
       "      <td>22</td>\n",
       "      <td>Male</td>\n",
       "      <td>81</td>\n",
       "      <td>Dreamkiss</td>\n",
       "      <td>3.61</td>\n",
       "      <td>20-24</td>\n",
       "    </tr>\n",
       "    <tr>\n",
       "      <th>6</th>\n",
       "      <td>6</td>\n",
       "      <td>Itheria73</td>\n",
       "      <td>36</td>\n",
       "      <td>Male</td>\n",
       "      <td>169</td>\n",
       "      <td>Interrogator, Blood Blade of the Queen</td>\n",
       "      <td>2.18</td>\n",
       "      <td>35-39</td>\n",
       "    </tr>\n",
       "    <tr>\n",
       "      <th>7</th>\n",
       "      <td>7</td>\n",
       "      <td>Iskjaskst81</td>\n",
       "      <td>20</td>\n",
       "      <td>Male</td>\n",
       "      <td>162</td>\n",
       "      <td>Abyssal Shard</td>\n",
       "      <td>2.67</td>\n",
       "      <td>20-24</td>\n",
       "    </tr>\n",
       "    <tr>\n",
       "      <th>8</th>\n",
       "      <td>8</td>\n",
       "      <td>Undjask33</td>\n",
       "      <td>22</td>\n",
       "      <td>Male</td>\n",
       "      <td>21</td>\n",
       "      <td>Souleater</td>\n",
       "      <td>1.10</td>\n",
       "      <td>20-24</td>\n",
       "    </tr>\n",
       "    <tr>\n",
       "      <th>9</th>\n",
       "      <td>9</td>\n",
       "      <td>Chanosian48</td>\n",
       "      <td>35</td>\n",
       "      <td>Other / Non-Disclosed</td>\n",
       "      <td>136</td>\n",
       "      <td>Ghastly Adamantite Protector</td>\n",
       "      <td>3.58</td>\n",
       "      <td>35-39</td>\n",
       "    </tr>\n",
       "  </tbody>\n",
       "</table>\n",
       "</div>"
      ],
      "text/plain": [
       "   Purchase ID             SN  Age                 Gender  Item ID  \\\n",
       "0            0        Lisim78   20                   Male      108   \n",
       "1            1    Lisovynya38   40                   Male      143   \n",
       "2            2     Ithergue48   24                   Male       92   \n",
       "3            3  Chamassasya86   24                   Male      100   \n",
       "4            4      Iskosia90   23                   Male      131   \n",
       "5            5        Yalae81   22                   Male       81   \n",
       "6            6      Itheria73   36                   Male      169   \n",
       "7            7    Iskjaskst81   20                   Male      162   \n",
       "8            8      Undjask33   22                   Male       21   \n",
       "9            9    Chanosian48   35  Other / Non-Disclosed      136   \n",
       "\n",
       "                                   Item Name  Price Age_Range  \n",
       "0  Extraction, Quickblade Of Trembling Hands   3.53     20-24  \n",
       "1                          Frenzied Scimitar   1.56       40+  \n",
       "2                               Final Critic   4.88     20-24  \n",
       "3                                Blindscythe   3.27     20-24  \n",
       "4                                       Fury   1.44     20-24  \n",
       "5                                  Dreamkiss   3.61     20-24  \n",
       "6     Interrogator, Blood Blade of the Queen   2.18     35-39  \n",
       "7                              Abyssal Shard   2.67     20-24  \n",
       "8                                  Souleater   1.10     20-24  \n",
       "9               Ghastly Adamantite Protector   3.58     35-39  "
      ]
     },
     "execution_count": 39,
     "metadata": {},
     "output_type": "execute_result"
    }
   ],
   "source": [
    "#Establish age bins\n",
    "bins = [0, 9, 14, 19, 24, 29, 34, 39, 200]\n",
    "age_labels = [\"<10\", \"10-14\", \"15-19\", \"20-24\", \"25-29\", \"30-34\", \"35-39\", \"40+\"]\n",
    "purchase_data[\"Age_Range\"] = pd.cut(purchase_data[\"Age\"], bins, labels=age_labels)\n",
    "purchase_data.head(10)"
   ]
  },
  {
   "cell_type": "code",
   "execution_count": 40,
   "metadata": {},
   "outputs": [],
   "source": [
    "#Create dataframes\n",
    "totalu10_df = purchase_data[(purchase_data[\"Age\"] < 10)]\n",
    "totalten14_df = purchase_data[(purchase_data[\"Age\"].between(10,14,))]\n",
    "totalfif19_df = purchase_data[(purchase_data[\"Age\"].between(15,19,))]\n",
    "totaltwe24_df = purchase_data[(purchase_data[\"Age\"].between(20,24,))]\n",
    "totaltw2529_df = purchase_data[(purchase_data[\"Age\"].between(25,29,))]\n",
    "totalthi34_df = purchase_data[(purchase_data[\"Age\"].between(30,34,))]\n",
    "totalth3539_df = purchase_data[(purchase_data[\"Age\"].between(35,39,))]\n",
    "totalo40_df = purchase_data[(purchase_data[\"Age\"] > 39)]"
   ]
  },
  {
   "cell_type": "code",
   "execution_count": 41,
   "metadata": {},
   "outputs": [],
   "source": [
    "tu10_count = totalu10_df[\"Age\"].count()\n",
    "tu10_pur = totalu10_df[\"Price\"].mean()\n",
    "tu10_tpur = totalu10_df[\"Price\"].sum()\n",
    "tu10_avgpurpm = totalu10_df[\"Price\"].sum() / u10_count"
   ]
  },
  {
   "cell_type": "code",
   "execution_count": 42,
   "metadata": {},
   "outputs": [],
   "source": [
    "tten14_count = totalten14_df[\"Age\"].count()\n",
    "tten14_pur = totalten14_df[\"Price\"].mean()\n",
    "tten14_tpur = totalten14_df[\"Price\"].sum()\n",
    "tten14_avgpurpm = totalten14_df[\"Price\"].sum() / ten14_count"
   ]
  },
  {
   "cell_type": "code",
   "execution_count": 43,
   "metadata": {},
   "outputs": [],
   "source": [
    "tfif19_count = totalfif19_df[\"Age\"].count()\n",
    "tfif19_pur = totalfif19_df[\"Price\"].mean()\n",
    "tfif19_tpur = totalfif19_df[\"Price\"].sum()\n",
    "tfif19_avgpurpm = totalfif19_df[\"Price\"].sum() / fif19_count"
   ]
  },
  {
   "cell_type": "code",
   "execution_count": 44,
   "metadata": {},
   "outputs": [],
   "source": [
    "ttwe24_count = totaltwe24_df[\"Age\"].count()\n",
    "ttwe24_pur = totaltwe24_df[\"Price\"].mean()\n",
    "ttwe24_tpur = totaltwe24_df[\"Price\"].sum()\n",
    "ttwe24_avgpurpm = totaltwe24_df[\"Price\"].sum() / twe24_count"
   ]
  },
  {
   "cell_type": "code",
   "execution_count": 45,
   "metadata": {},
   "outputs": [],
   "source": [
    "ttw2529_count = totaltw2529_df[\"Age\"].count()\n",
    "ttw2529_pur = totaltw2529_df[\"Price\"].mean()\n",
    "ttw2529_tpur = totaltw2529_df[\"Price\"].sum()\n",
    "ttw2529_avgpurpm = totaltw2529_df[\"Price\"].sum() / tw2529_count"
   ]
  },
  {
   "cell_type": "code",
   "execution_count": 46,
   "metadata": {},
   "outputs": [],
   "source": [
    "tthi34_count = totalthi34_df[\"Age\"].count()\n",
    "tthi34_pur = totalthi34_df[\"Price\"].mean()\n",
    "tthi34_tpur = totalthi34_df[\"Price\"].sum()\n",
    "tthi34_avgpurpm = totalthi34_df[\"Price\"].sum() / thi34_count"
   ]
  },
  {
   "cell_type": "code",
   "execution_count": 47,
   "metadata": {},
   "outputs": [],
   "source": [
    "tth3539_count = totalth3539_df[\"Age\"].count()\n",
    "tth3539_pur = totalth3539_df[\"Price\"].mean()\n",
    "tth3539_tpur = totalth3539_df[\"Price\"].sum()\n",
    "tth3539_avgpurpm = totalth3539_df[\"Price\"].sum() / th3539_count"
   ]
  },
  {
   "cell_type": "code",
   "execution_count": 48,
   "metadata": {},
   "outputs": [],
   "source": [
    "to40_count = totalo40_df[\"Age\"].count()\n",
    "to40_pur = totalo40_df[\"Price\"].mean()\n",
    "to40_tpur = totalo40_df[\"Price\"].sum()\n",
    "to40_avgpurpm = totalo40_df[\"Price\"].sum() / o40_count"
   ]
  },
  {
   "cell_type": "code",
   "execution_count": 49,
   "metadata": {},
   "outputs": [],
   "source": [
    "pa_agedf = pd.DataFrame({\"Age Ranges\" : [\"<10\", \"10-14\", \"15-19\", \"20-24\", \"25-29\", \"30-34\", \"35-39\", \"40+\"],\n",
    "                          \"Purchase Count\" : [tu10_count, tten14_count, tfif19_count, ttwe24_count, ttw2529_count, tthi34_count, tth3539_count, to40_count],\n",
    "                          \"Average Purchase Price\" : [tu10_pur, tten14_pur, tfif19_pur, ttwe24_pur, ttw2529_pur, tthi34_pur, tth3539_pur, to40_pur],\n",
    "                          \"Total Purchase Value\" : [tu10_tpur, tten14_tpur, tfif19_tpur, ttwe24_tpur, ttw2529_tpur, tthi34_tpur, tth3539_tpur, to40_tpur],\n",
    "                          \"Avg Total Purchase / Person\" : [tu10_avgpurpm, tten14_avgpurpm, tfif19_avgpurpm, ttwe24_avgpurpm, ttw2529_avgpurpm, tthi34_avgpurpm, tth3539_avgpurpm, to40_avgpurpm]\n",
    "                         })"
   ]
  },
  {
   "cell_type": "code",
   "execution_count": 50,
   "metadata": {},
   "outputs": [
    {
     "data": {
      "text/html": [
       "<style  type=\"text/css\" >\n",
       "</style><table id=\"T_54ce58ed_2ec8_11eb_a2d2_94e6f70c7217\" ><thead>    <tr>        <th class=\"col_heading level0 col0\" >Age Ranges</th>        <th class=\"col_heading level0 col1\" >Purchase Count</th>        <th class=\"col_heading level0 col2\" >Average Purchase Price</th>        <th class=\"col_heading level0 col3\" >Total Purchase Value</th>        <th class=\"col_heading level0 col4\" >Avg Total Purchase / Person</th>    </tr></thead><tbody>\n",
       "                <tr>\n",
       "                                <td id=\"T_54ce58ed_2ec8_11eb_a2d2_94e6f70c7217row0_col0\" class=\"data row0 col0\" ><10</td>\n",
       "                        <td id=\"T_54ce58ed_2ec8_11eb_a2d2_94e6f70c7217row0_col1\" class=\"data row0 col1\" >23</td>\n",
       "                        <td id=\"T_54ce58ed_2ec8_11eb_a2d2_94e6f70c7217row0_col2\" class=\"data row0 col2\" >$3.35</td>\n",
       "                        <td id=\"T_54ce58ed_2ec8_11eb_a2d2_94e6f70c7217row0_col3\" class=\"data row0 col3\" >$77.13</td>\n",
       "                        <td id=\"T_54ce58ed_2ec8_11eb_a2d2_94e6f70c7217row0_col4\" class=\"data row0 col4\" >$4.54</td>\n",
       "            </tr>\n",
       "            <tr>\n",
       "                                <td id=\"T_54ce58ed_2ec8_11eb_a2d2_94e6f70c7217row1_col0\" class=\"data row1 col0\" >10-14</td>\n",
       "                        <td id=\"T_54ce58ed_2ec8_11eb_a2d2_94e6f70c7217row1_col1\" class=\"data row1 col1\" >28</td>\n",
       "                        <td id=\"T_54ce58ed_2ec8_11eb_a2d2_94e6f70c7217row1_col2\" class=\"data row1 col2\" >$2.96</td>\n",
       "                        <td id=\"T_54ce58ed_2ec8_11eb_a2d2_94e6f70c7217row1_col3\" class=\"data row1 col3\" >$82.78</td>\n",
       "                        <td id=\"T_54ce58ed_2ec8_11eb_a2d2_94e6f70c7217row1_col4\" class=\"data row1 col4\" >$3.76</td>\n",
       "            </tr>\n",
       "            <tr>\n",
       "                                <td id=\"T_54ce58ed_2ec8_11eb_a2d2_94e6f70c7217row2_col0\" class=\"data row2 col0\" >15-19</td>\n",
       "                        <td id=\"T_54ce58ed_2ec8_11eb_a2d2_94e6f70c7217row2_col1\" class=\"data row2 col1\" >136</td>\n",
       "                        <td id=\"T_54ce58ed_2ec8_11eb_a2d2_94e6f70c7217row2_col2\" class=\"data row2 col2\" >$3.04</td>\n",
       "                        <td id=\"T_54ce58ed_2ec8_11eb_a2d2_94e6f70c7217row2_col3\" class=\"data row2 col3\" >$412.89</td>\n",
       "                        <td id=\"T_54ce58ed_2ec8_11eb_a2d2_94e6f70c7217row2_col4\" class=\"data row2 col4\" >$3.86</td>\n",
       "            </tr>\n",
       "            <tr>\n",
       "                                <td id=\"T_54ce58ed_2ec8_11eb_a2d2_94e6f70c7217row3_col0\" class=\"data row3 col0\" >20-24</td>\n",
       "                        <td id=\"T_54ce58ed_2ec8_11eb_a2d2_94e6f70c7217row3_col1\" class=\"data row3 col1\" >365</td>\n",
       "                        <td id=\"T_54ce58ed_2ec8_11eb_a2d2_94e6f70c7217row3_col2\" class=\"data row3 col2\" >$3.05</td>\n",
       "                        <td id=\"T_54ce58ed_2ec8_11eb_a2d2_94e6f70c7217row3_col3\" class=\"data row3 col3\" >$1,114.06</td>\n",
       "                        <td id=\"T_54ce58ed_2ec8_11eb_a2d2_94e6f70c7217row3_col4\" class=\"data row3 col4\" >$4.32</td>\n",
       "            </tr>\n",
       "            <tr>\n",
       "                                <td id=\"T_54ce58ed_2ec8_11eb_a2d2_94e6f70c7217row4_col0\" class=\"data row4 col0\" >25-29</td>\n",
       "                        <td id=\"T_54ce58ed_2ec8_11eb_a2d2_94e6f70c7217row4_col1\" class=\"data row4 col1\" >101</td>\n",
       "                        <td id=\"T_54ce58ed_2ec8_11eb_a2d2_94e6f70c7217row4_col2\" class=\"data row4 col2\" >$2.90</td>\n",
       "                        <td id=\"T_54ce58ed_2ec8_11eb_a2d2_94e6f70c7217row4_col3\" class=\"data row4 col3\" >$293.00</td>\n",
       "                        <td id=\"T_54ce58ed_2ec8_11eb_a2d2_94e6f70c7217row4_col4\" class=\"data row4 col4\" >$3.81</td>\n",
       "            </tr>\n",
       "            <tr>\n",
       "                                <td id=\"T_54ce58ed_2ec8_11eb_a2d2_94e6f70c7217row5_col0\" class=\"data row5 col0\" >30-34</td>\n",
       "                        <td id=\"T_54ce58ed_2ec8_11eb_a2d2_94e6f70c7217row5_col1\" class=\"data row5 col1\" >73</td>\n",
       "                        <td id=\"T_54ce58ed_2ec8_11eb_a2d2_94e6f70c7217row5_col2\" class=\"data row5 col2\" >$2.93</td>\n",
       "                        <td id=\"T_54ce58ed_2ec8_11eb_a2d2_94e6f70c7217row5_col3\" class=\"data row5 col3\" >$214.00</td>\n",
       "                        <td id=\"T_54ce58ed_2ec8_11eb_a2d2_94e6f70c7217row5_col4\" class=\"data row5 col4\" >$4.12</td>\n",
       "            </tr>\n",
       "            <tr>\n",
       "                                <td id=\"T_54ce58ed_2ec8_11eb_a2d2_94e6f70c7217row6_col0\" class=\"data row6 col0\" >35-39</td>\n",
       "                        <td id=\"T_54ce58ed_2ec8_11eb_a2d2_94e6f70c7217row6_col1\" class=\"data row6 col1\" >41</td>\n",
       "                        <td id=\"T_54ce58ed_2ec8_11eb_a2d2_94e6f70c7217row6_col2\" class=\"data row6 col2\" >$3.60</td>\n",
       "                        <td id=\"T_54ce58ed_2ec8_11eb_a2d2_94e6f70c7217row6_col3\" class=\"data row6 col3\" >$147.67</td>\n",
       "                        <td id=\"T_54ce58ed_2ec8_11eb_a2d2_94e6f70c7217row6_col4\" class=\"data row6 col4\" >$4.76</td>\n",
       "            </tr>\n",
       "            <tr>\n",
       "                                <td id=\"T_54ce58ed_2ec8_11eb_a2d2_94e6f70c7217row7_col0\" class=\"data row7 col0\" >40+</td>\n",
       "                        <td id=\"T_54ce58ed_2ec8_11eb_a2d2_94e6f70c7217row7_col1\" class=\"data row7 col1\" >13</td>\n",
       "                        <td id=\"T_54ce58ed_2ec8_11eb_a2d2_94e6f70c7217row7_col2\" class=\"data row7 col2\" >$2.94</td>\n",
       "                        <td id=\"T_54ce58ed_2ec8_11eb_a2d2_94e6f70c7217row7_col3\" class=\"data row7 col3\" >$38.24</td>\n",
       "                        <td id=\"T_54ce58ed_2ec8_11eb_a2d2_94e6f70c7217row7_col4\" class=\"data row7 col4\" >$3.19</td>\n",
       "            </tr>\n",
       "    </tbody></table>"
      ],
      "text/plain": [
       "<pandas.io.formats.style.Styler at 0x28b4196c0a0>"
      ]
     },
     "execution_count": 50,
     "metadata": {},
     "output_type": "execute_result"
    }
   ],
   "source": [
    "pa_agedf.style.format({'Average Purchase Price': \"${:.2f}\", \n",
    "                          'Total Purchase Value': \"${:,.2f}\",\n",
    "                          'Avg Total Purchase / Person' : \"${:.2f}\"}\n",
    "                        ).hide_index()"
   ]
  },
  {
   "cell_type": "markdown",
   "metadata": {},
   "source": [
    "## Top Spenders"
   ]
  },
  {
   "cell_type": "markdown",
   "metadata": {},
   "source": [
    "* Run basic calculations to obtain the results in the table below\n",
    "\n",
    "\n",
    "* Create a summary data frame to hold the results\n",
    "\n",
    "\n",
    "* Sort the total purchase value column in descending order\n",
    "\n",
    "\n",
    "* Optional: give the displayed data cleaner formatting\n",
    "\n",
    "\n",
    "* Display a preview of the summary data frame\n",
    "\n"
   ]
  },
  {
   "cell_type": "code",
   "execution_count": 51,
   "metadata": {
    "scrolled": true
   },
   "outputs": [
    {
     "data": {
      "text/html": [
       "<div>\n",
       "<style scoped>\n",
       "    .dataframe tbody tr th:only-of-type {\n",
       "        vertical-align: middle;\n",
       "    }\n",
       "\n",
       "    .dataframe tbody tr th {\n",
       "        vertical-align: top;\n",
       "    }\n",
       "\n",
       "    .dataframe thead th {\n",
       "        text-align: right;\n",
       "    }\n",
       "</style>\n",
       "<table border=\"1\" class=\"dataframe\">\n",
       "  <thead>\n",
       "    <tr style=\"text-align: right;\">\n",
       "      <th></th>\n",
       "      <th>SN</th>\n",
       "      <th>Item ID</th>\n",
       "      <th>Price</th>\n",
       "    </tr>\n",
       "  </thead>\n",
       "  <tbody>\n",
       "    <tr>\n",
       "      <th>0</th>\n",
       "      <td>Lisim78</td>\n",
       "      <td>108</td>\n",
       "      <td>3.53</td>\n",
       "    </tr>\n",
       "    <tr>\n",
       "      <th>1</th>\n",
       "      <td>Lisovynya38</td>\n",
       "      <td>143</td>\n",
       "      <td>1.56</td>\n",
       "    </tr>\n",
       "    <tr>\n",
       "      <th>2</th>\n",
       "      <td>Ithergue48</td>\n",
       "      <td>92</td>\n",
       "      <td>4.88</td>\n",
       "    </tr>\n",
       "    <tr>\n",
       "      <th>3</th>\n",
       "      <td>Chamassasya86</td>\n",
       "      <td>100</td>\n",
       "      <td>3.27</td>\n",
       "    </tr>\n",
       "    <tr>\n",
       "      <th>4</th>\n",
       "      <td>Iskosia90</td>\n",
       "      <td>131</td>\n",
       "      <td>1.44</td>\n",
       "    </tr>\n",
       "    <tr>\n",
       "      <th>5</th>\n",
       "      <td>Yalae81</td>\n",
       "      <td>81</td>\n",
       "      <td>3.61</td>\n",
       "    </tr>\n",
       "    <tr>\n",
       "      <th>6</th>\n",
       "      <td>Itheria73</td>\n",
       "      <td>169</td>\n",
       "      <td>2.18</td>\n",
       "    </tr>\n",
       "    <tr>\n",
       "      <th>7</th>\n",
       "      <td>Iskjaskst81</td>\n",
       "      <td>162</td>\n",
       "      <td>2.67</td>\n",
       "    </tr>\n",
       "    <tr>\n",
       "      <th>8</th>\n",
       "      <td>Undjask33</td>\n",
       "      <td>21</td>\n",
       "      <td>1.10</td>\n",
       "    </tr>\n",
       "    <tr>\n",
       "      <th>9</th>\n",
       "      <td>Chanosian48</td>\n",
       "      <td>136</td>\n",
       "      <td>3.58</td>\n",
       "    </tr>\n",
       "    <tr>\n",
       "      <th>10</th>\n",
       "      <td>Inguron55</td>\n",
       "      <td>95</td>\n",
       "      <td>4.74</td>\n",
       "    </tr>\n",
       "    <tr>\n",
       "      <th>11</th>\n",
       "      <td>Haisrisuir60</td>\n",
       "      <td>162</td>\n",
       "      <td>2.67</td>\n",
       "    </tr>\n",
       "    <tr>\n",
       "      <th>12</th>\n",
       "      <td>Saelaephos52</td>\n",
       "      <td>116</td>\n",
       "      <td>4.18</td>\n",
       "    </tr>\n",
       "    <tr>\n",
       "      <th>13</th>\n",
       "      <td>Assjaskan73</td>\n",
       "      <td>4</td>\n",
       "      <td>1.70</td>\n",
       "    </tr>\n",
       "    <tr>\n",
       "      <th>14</th>\n",
       "      <td>Saesrideu94</td>\n",
       "      <td>165</td>\n",
       "      <td>4.86</td>\n",
       "    </tr>\n",
       "    <tr>\n",
       "      <th>15</th>\n",
       "      <td>Lisassa64</td>\n",
       "      <td>98</td>\n",
       "      <td>2.89</td>\n",
       "    </tr>\n",
       "    <tr>\n",
       "      <th>16</th>\n",
       "      <td>Lisirra25</td>\n",
       "      <td>40</td>\n",
       "      <td>2.52</td>\n",
       "    </tr>\n",
       "    <tr>\n",
       "      <th>17</th>\n",
       "      <td>Zontibe81</td>\n",
       "      <td>161</td>\n",
       "      <td>1.76</td>\n",
       "    </tr>\n",
       "    <tr>\n",
       "      <th>18</th>\n",
       "      <td>Reunasu60</td>\n",
       "      <td>82</td>\n",
       "      <td>4.90</td>\n",
       "    </tr>\n",
       "    <tr>\n",
       "      <th>19</th>\n",
       "      <td>Chamalo71</td>\n",
       "      <td>89</td>\n",
       "      <td>4.64</td>\n",
       "    </tr>\n",
       "    <tr>\n",
       "      <th>20</th>\n",
       "      <td>Iathenudil29</td>\n",
       "      <td>57</td>\n",
       "      <td>4.60</td>\n",
       "    </tr>\n",
       "    <tr>\n",
       "      <th>21</th>\n",
       "      <td>Phiarithdeu40</td>\n",
       "      <td>168</td>\n",
       "      <td>1.48</td>\n",
       "    </tr>\n",
       "    <tr>\n",
       "      <th>22</th>\n",
       "      <td>Siarithria38</td>\n",
       "      <td>24</td>\n",
       "      <td>3.81</td>\n",
       "    </tr>\n",
       "    <tr>\n",
       "      <th>23</th>\n",
       "      <td>Eyrian71</td>\n",
       "      <td>151</td>\n",
       "      <td>3.40</td>\n",
       "    </tr>\n",
       "    <tr>\n",
       "      <th>24</th>\n",
       "      <td>Siala43</td>\n",
       "      <td>132</td>\n",
       "      <td>3.19</td>\n",
       "    </tr>\n",
       "  </tbody>\n",
       "</table>\n",
       "</div>"
      ],
      "text/plain": [
       "               SN  Item ID  Price\n",
       "0         Lisim78      108   3.53\n",
       "1     Lisovynya38      143   1.56\n",
       "2      Ithergue48       92   4.88\n",
       "3   Chamassasya86      100   3.27\n",
       "4       Iskosia90      131   1.44\n",
       "5         Yalae81       81   3.61\n",
       "6       Itheria73      169   2.18\n",
       "7     Iskjaskst81      162   2.67\n",
       "8       Undjask33       21   1.10\n",
       "9     Chanosian48      136   3.58\n",
       "10      Inguron55       95   4.74\n",
       "11   Haisrisuir60      162   2.67\n",
       "12   Saelaephos52      116   4.18\n",
       "13    Assjaskan73        4   1.70\n",
       "14    Saesrideu94      165   4.86\n",
       "15      Lisassa64       98   2.89\n",
       "16      Lisirra25       40   2.52\n",
       "17      Zontibe81      161   1.76\n",
       "18      Reunasu60       82   4.90\n",
       "19      Chamalo71       89   4.64\n",
       "20   Iathenudil29       57   4.60\n",
       "21  Phiarithdeu40      168   1.48\n",
       "22   Siarithria38       24   3.81\n",
       "23       Eyrian71      151   3.40\n",
       "24        Siala43      132   3.19"
      ]
     },
     "execution_count": 51,
     "metadata": {},
     "output_type": "execute_result"
    }
   ],
   "source": [
    "sn_sort_df = purchase_data.loc[:,[\"SN\", \"Item ID\", \"Price\"]]\n",
    "#items_only_df = purchase_data.loc[:,[\"Item ID\", \"Item Name\", \"Price\"]]\n",
    "sn_sort_df.head(25)"
   ]
  },
  {
   "cell_type": "code",
   "execution_count": 94,
   "metadata": {},
   "outputs": [],
   "source": [
    "sn_group = sn_sort_df.groupby(\"SN\")\n",
    "sncount = sn_group[\"SN\"].count()\n",
    "sn_countdict = dict(sncount)\n",
    "sn_countdf = pd.DataFrame.from_dict(sn_countdict, orient='index', columns = [\"Purchase Counts\"])\n",
    "sn_countdf.columns.name = \"SN\"\n",
    "\n",
    "sntotalp = sn_group[\"Price\"].sum()\n",
    "sn_totalpdict = dict(sntotalp)\n",
    "sn_totalpdf = pd.DataFrame.from_dict(sn_totalpdict, orient='index', columns = [\"Total Purchase Price\"])\n",
    "sn_totalpdf.columns.name = \"SN\"\n",
    "\n",
    "snavg = sn_group[\"Price\"].mean()\n",
    "sn_snavgdict = dict(snavg)\n",
    "sn_snavgdf = pd.DataFrame.from_dict(sn_snavgdict, orient='index', columns = [\"Avg Purchase Price\"])\n",
    "sn_snavgdf.columns.name = \"SN\""
   ]
  },
  {
   "cell_type": "code",
   "execution_count": 101,
   "metadata": {},
   "outputs": [
    {
     "ename": "NameError",
     "evalue": "name 'left_index' is not defined",
     "output_type": "error",
     "traceback": [
      "\u001b[1;31m---------------------------------------------------------------------------\u001b[0m",
      "\u001b[1;31mNameError\u001b[0m                                 Traceback (most recent call last)",
      "\u001b[1;32m<ipython-input-101-a3ea4dafabb7>\u001b[0m in \u001b[0;36m<module>\u001b[1;34m\u001b[0m\n\u001b[1;32m----> 1\u001b[1;33m \u001b[0mresult\u001b[0m \u001b[1;33m=\u001b[0m \u001b[0mpd\u001b[0m\u001b[1;33m.\u001b[0m\u001b[0mmerge\u001b[0m\u001b[1;33m(\u001b[0m\u001b[0msn_countdf\u001b[0m\u001b[1;33m,\u001b[0m \u001b[0msn_totalpdf\u001b[0m\u001b[1;33m,\u001b[0m \u001b[0mleft_index\u001b[0m \u001b[1;33m==\u001b[0m \u001b[0mSN\u001b[0m\u001b[1;33m,\u001b[0m \u001b[0mhow\u001b[0m \u001b[1;33m=\u001b[0m\u001b[1;34m'outer'\u001b[0m\u001b[1;33m)\u001b[0m\u001b[1;33m\u001b[0m\u001b[1;33m\u001b[0m\u001b[0m\n\u001b[0m",
      "\u001b[1;31mNameError\u001b[0m: name 'left_index' is not defined"
     ]
    }
   ],
   "source": [
    "result = pd.merge(sn_countdf, sn_totalpdf, left_index == SN, how ='outer')"
   ]
  },
  {
   "cell_type": "code",
   "execution_count": null,
   "metadata": {},
   "outputs": [],
   "source": []
  },
  {
   "cell_type": "code",
   "execution_count": null,
   "metadata": {},
   "outputs": [],
   "source": []
  },
  {
   "cell_type": "markdown",
   "metadata": {},
   "source": [
    "## Most Popular Items"
   ]
  },
  {
   "cell_type": "markdown",
   "metadata": {},
   "source": [
    "* Retrieve the Item ID, Item Name, and Item Price columns\n",
    "\n",
    "\n",
    "* Group by Item ID and Item Name. Perform calculations to obtain purchase count, average item price, and total purchase value\n",
    "\n",
    "\n",
    "* Create a summary data frame to hold the results\n",
    "\n",
    "\n",
    "* Sort the purchase count column in descending order\n",
    "\n",
    "\n",
    "* Optional: give the displayed data cleaner formatting\n",
    "\n",
    "\n",
    "* Display a preview of the summary data frame\n",
    "\n"
   ]
  },
  {
   "cell_type": "code",
   "execution_count": 9,
   "metadata": {},
   "outputs": [
    {
     "data": {
      "text/html": [
       "<div>\n",
       "<style scoped>\n",
       "    .dataframe tbody tr th:only-of-type {\n",
       "        vertical-align: middle;\n",
       "    }\n",
       "\n",
       "    .dataframe tbody tr th {\n",
       "        vertical-align: top;\n",
       "    }\n",
       "\n",
       "    .dataframe thead th {\n",
       "        text-align: right;\n",
       "    }\n",
       "</style>\n",
       "<table border=\"1\" class=\"dataframe\">\n",
       "  <thead>\n",
       "    <tr style=\"text-align: right;\">\n",
       "      <th></th>\n",
       "      <th></th>\n",
       "      <th>Purchase Count</th>\n",
       "      <th>Item Price</th>\n",
       "      <th>Total Purchase Value</th>\n",
       "    </tr>\n",
       "    <tr>\n",
       "      <th>Item ID</th>\n",
       "      <th>Item Name</th>\n",
       "      <th></th>\n",
       "      <th></th>\n",
       "      <th></th>\n",
       "    </tr>\n",
       "  </thead>\n",
       "  <tbody>\n",
       "    <tr>\n",
       "      <th>92</th>\n",
       "      <th>Final Critic</th>\n",
       "      <td>13</td>\n",
       "      <td>$4.61</td>\n",
       "      <td>$59.99</td>\n",
       "    </tr>\n",
       "    <tr>\n",
       "      <th>178</th>\n",
       "      <th>Oathbreaker, Last Hope of the Breaking Storm</th>\n",
       "      <td>12</td>\n",
       "      <td>$4.23</td>\n",
       "      <td>$50.76</td>\n",
       "    </tr>\n",
       "    <tr>\n",
       "      <th>145</th>\n",
       "      <th>Fiery Glass Crusader</th>\n",
       "      <td>9</td>\n",
       "      <td>$4.58</td>\n",
       "      <td>$41.22</td>\n",
       "    </tr>\n",
       "    <tr>\n",
       "      <th>132</th>\n",
       "      <th>Persuasion</th>\n",
       "      <td>9</td>\n",
       "      <td>$3.22</td>\n",
       "      <td>$28.99</td>\n",
       "    </tr>\n",
       "    <tr>\n",
       "      <th>108</th>\n",
       "      <th>Extraction, Quickblade Of Trembling Hands</th>\n",
       "      <td>9</td>\n",
       "      <td>$3.53</td>\n",
       "      <td>$31.77</td>\n",
       "    </tr>\n",
       "  </tbody>\n",
       "</table>\n",
       "</div>"
      ],
      "text/plain": [
       "                                                     Purchase Count  \\\n",
       "Item ID Item Name                                                     \n",
       "92      Final Critic                                             13   \n",
       "178     Oathbreaker, Last Hope of the Breaking Storm             12   \n",
       "145     Fiery Glass Crusader                                      9   \n",
       "132     Persuasion                                                9   \n",
       "108     Extraction, Quickblade Of Trembling Hands                 9   \n",
       "\n",
       "                                                     Item Price  \\\n",
       "Item ID Item Name                                                 \n",
       "92      Final Critic                                      $4.61   \n",
       "178     Oathbreaker, Last Hope of the Breaking Storm      $4.23   \n",
       "145     Fiery Glass Crusader                              $4.58   \n",
       "132     Persuasion                                        $3.22   \n",
       "108     Extraction, Quickblade Of Trembling Hands         $3.53   \n",
       "\n",
       "                                                     Total Purchase Value  \n",
       "Item ID Item Name                                                          \n",
       "92      Final Critic                                               $59.99  \n",
       "178     Oathbreaker, Last Hope of the Breaking Storm               $50.76  \n",
       "145     Fiery Glass Crusader                                       $41.22  \n",
       "132     Persuasion                                                 $28.99  \n",
       "108     Extraction, Quickblade Of Trembling Hands                  $31.77  "
      ]
     },
     "execution_count": 9,
     "metadata": {},
     "output_type": "execute_result"
    }
   ],
   "source": []
  },
  {
   "cell_type": "markdown",
   "metadata": {},
   "source": [
    "## Most Profitable Items"
   ]
  },
  {
   "cell_type": "markdown",
   "metadata": {},
   "source": [
    "* Sort the above table by total purchase value in descending order\n",
    "\n",
    "\n",
    "* Optional: give the displayed data cleaner formatting\n",
    "\n",
    "\n",
    "* Display a preview of the data frame\n",
    "\n"
   ]
  },
  {
   "cell_type": "code",
   "execution_count": 10,
   "metadata": {
    "scrolled": true
   },
   "outputs": [
    {
     "data": {
      "text/html": [
       "<div>\n",
       "<style scoped>\n",
       "    .dataframe tbody tr th:only-of-type {\n",
       "        vertical-align: middle;\n",
       "    }\n",
       "\n",
       "    .dataframe tbody tr th {\n",
       "        vertical-align: top;\n",
       "    }\n",
       "\n",
       "    .dataframe thead th {\n",
       "        text-align: right;\n",
       "    }\n",
       "</style>\n",
       "<table border=\"1\" class=\"dataframe\">\n",
       "  <thead>\n",
       "    <tr style=\"text-align: right;\">\n",
       "      <th></th>\n",
       "      <th></th>\n",
       "      <th>Purchase Count</th>\n",
       "      <th>Item Price</th>\n",
       "      <th>Total Purchase Value</th>\n",
       "    </tr>\n",
       "    <tr>\n",
       "      <th>Item ID</th>\n",
       "      <th>Item Name</th>\n",
       "      <th></th>\n",
       "      <th></th>\n",
       "      <th></th>\n",
       "    </tr>\n",
       "  </thead>\n",
       "  <tbody>\n",
       "    <tr>\n",
       "      <th>92</th>\n",
       "      <th>Final Critic</th>\n",
       "      <td>13</td>\n",
       "      <td>$4.61</td>\n",
       "      <td>$59.99</td>\n",
       "    </tr>\n",
       "    <tr>\n",
       "      <th>178</th>\n",
       "      <th>Oathbreaker, Last Hope of the Breaking Storm</th>\n",
       "      <td>12</td>\n",
       "      <td>$4.23</td>\n",
       "      <td>$50.76</td>\n",
       "    </tr>\n",
       "    <tr>\n",
       "      <th>82</th>\n",
       "      <th>Nirvana</th>\n",
       "      <td>9</td>\n",
       "      <td>$4.90</td>\n",
       "      <td>$44.10</td>\n",
       "    </tr>\n",
       "    <tr>\n",
       "      <th>145</th>\n",
       "      <th>Fiery Glass Crusader</th>\n",
       "      <td>9</td>\n",
       "      <td>$4.58</td>\n",
       "      <td>$41.22</td>\n",
       "    </tr>\n",
       "    <tr>\n",
       "      <th>103</th>\n",
       "      <th>Singed Scalpel</th>\n",
       "      <td>8</td>\n",
       "      <td>$4.35</td>\n",
       "      <td>$34.80</td>\n",
       "    </tr>\n",
       "  </tbody>\n",
       "</table>\n",
       "</div>"
      ],
      "text/plain": [
       "                                                     Purchase Count  \\\n",
       "Item ID Item Name                                                     \n",
       "92      Final Critic                                             13   \n",
       "178     Oathbreaker, Last Hope of the Breaking Storm             12   \n",
       "82      Nirvana                                                   9   \n",
       "145     Fiery Glass Crusader                                      9   \n",
       "103     Singed Scalpel                                            8   \n",
       "\n",
       "                                                     Item Price  \\\n",
       "Item ID Item Name                                                 \n",
       "92      Final Critic                                      $4.61   \n",
       "178     Oathbreaker, Last Hope of the Breaking Storm      $4.23   \n",
       "82      Nirvana                                           $4.90   \n",
       "145     Fiery Glass Crusader                              $4.58   \n",
       "103     Singed Scalpel                                    $4.35   \n",
       "\n",
       "                                                     Total Purchase Value  \n",
       "Item ID Item Name                                                          \n",
       "92      Final Critic                                               $59.99  \n",
       "178     Oathbreaker, Last Hope of the Breaking Storm               $50.76  \n",
       "82      Nirvana                                                    $44.10  \n",
       "145     Fiery Glass Crusader                                       $41.22  \n",
       "103     Singed Scalpel                                             $34.80  "
      ]
     },
     "execution_count": 10,
     "metadata": {},
     "output_type": "execute_result"
    }
   ],
   "source": []
  }
 ],
 "metadata": {
  "anaconda-cloud": {},
  "kernel_info": {
   "name": "python3"
  },
  "kernelspec": {
   "display_name": "Python 3",
   "language": "python",
   "name": "python3"
  },
  "language_info": {
   "codemirror_mode": {
    "name": "ipython",
    "version": 3
   },
   "file_extension": ".py",
   "mimetype": "text/x-python",
   "name": "python",
   "nbconvert_exporter": "python",
   "pygments_lexer": "ipython3",
   "version": "3.8.3"
  },
  "latex_envs": {
   "LaTeX_envs_menu_present": true,
   "autoclose": false,
   "autocomplete": true,
   "bibliofile": "biblio.bib",
   "cite_by": "apalike",
   "current_citInitial": 1,
   "eqLabelWithNumbers": true,
   "eqNumInitial": 1,
   "hotkeys": {
    "equation": "Ctrl-E",
    "itemize": "Ctrl-I"
   },
   "labels_anchors": false,
   "latex_user_defs": false,
   "report_style_numbering": false,
   "user_envs_cfg": false
  },
  "nteract": {
   "version": "0.2.0"
  }
 },
 "nbformat": 4,
 "nbformat_minor": 2
}
